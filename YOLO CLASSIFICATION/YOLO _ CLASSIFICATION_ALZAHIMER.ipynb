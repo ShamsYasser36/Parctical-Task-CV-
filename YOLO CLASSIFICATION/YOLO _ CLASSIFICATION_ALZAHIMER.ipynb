{
 "cells": [
  {
   "cell_type": "code",
   "execution_count": 1,
   "id": "493de75f-2b4a-4437-ad6e-d224783bc2c5",
   "metadata": {},
   "outputs": [],
   "source": [
    "from ultralytics import YOLO"
   ]
  },
  {
   "cell_type": "code",
   "execution_count": 9,
   "id": "111e00c1-3839-463b-aa46-d6416816df69",
   "metadata": {},
   "outputs": [],
   "source": [
    "model = YOLO(\"yolo11n-cls.pt\") "
   ]
  },
  {
   "cell_type": "code",
   "execution_count": 13,
   "id": "68ec7070-3245-4d60-a27c-2819c6796ba4",
   "metadata": {},
   "outputs": [
    {
     "name": "stdout",
     "output_type": "stream",
     "text": [
      "New https://pypi.org/project/ultralytics/8.3.48 available  Update with 'pip install -U ultralytics'\n",
      "Ultralytics 8.3.39  Python-3.12.7 torch-2.5.1+cpu CPU (AMD Ryzen 7 7435HS)\n",
      "\u001b[34m\u001b[1mengine\\trainer: \u001b[0mtask=classify, mode=train, model=yolo11n-cls.pt, data=C:/Users/shams/Desktop/Sections/Computer vision/Task4/Alzheimer_s Dataset , epochs=5, time=None, patience=100, batch=16, imgsz=224, save=True, save_period=-1, cache=False, device=None, workers=8, project=None, name=train4, exist_ok=False, pretrained=True, optimizer=auto, verbose=True, seed=0, deterministic=True, single_cls=False, rect=False, cos_lr=False, close_mosaic=10, resume=False, amp=True, fraction=1.0, profile=False, freeze=None, multi_scale=False, overlap_mask=True, mask_ratio=4, dropout=0.0, val=True, split=val, save_json=False, save_hybrid=False, conf=None, iou=0.7, max_det=300, half=False, dnn=False, plots=True, source=None, vid_stride=1, stream_buffer=False, visualize=False, augment=False, agnostic_nms=False, classes=None, retina_masks=False, embed=None, show=False, save_frames=False, save_txt=False, save_conf=False, save_crop=False, show_labels=True, show_conf=True, show_boxes=True, line_width=None, format=torchscript, keras=False, optimize=False, int8=False, dynamic=False, simplify=True, opset=None, workspace=None, nms=False, lr0=0.01, lrf=0.01, momentum=0.937, weight_decay=0.0005, warmup_epochs=3.0, warmup_momentum=0.8, warmup_bias_lr=0.1, box=7.5, cls=0.5, dfl=1.5, pose=12.0, kobj=1.0, nbs=64, hsv_h=0.015, hsv_s=0.7, hsv_v=0.4, degrees=0.0, translate=0.1, scale=0.5, shear=0.0, perspective=0.0, flipud=0.0, fliplr=0.5, bgr=0.0, mosaic=1.0, mixup=0.0, copy_paste=0.0, copy_paste_mode=flip, auto_augment=randaugment, erasing=0.4, crop_fraction=1.0, cfg=None, tracker=botsort.yaml, save_dir=runs\\classify\\train4\n",
      "\u001b[34m\u001b[1mtrain:\u001b[0m C:\\Users\\shams\\Desktop\\Sections\\Computer vision\\Task4\\Alzheimer_s Dataset\\train... found 4220 images in 4 classes  \n",
      "\u001b[34m\u001b[1mval:\u001b[0m None...\n",
      "\u001b[34m\u001b[1mtest:\u001b[0m C:\\Users\\shams\\Desktop\\Sections\\Computer vision\\Task4\\Alzheimer_s Dataset\\test... found 1279 images in 4 classes  \n",
      "Overriding model.yaml nc=80 with nc=4\n",
      "\n",
      "                   from  n    params  module                                       arguments                     \n",
      "  0                  -1  1       464  ultralytics.nn.modules.conv.Conv             [3, 16, 3, 2]                 \n",
      "  1                  -1  1      4672  ultralytics.nn.modules.conv.Conv             [16, 32, 3, 2]                \n",
      "  2                  -1  1      6640  ultralytics.nn.modules.block.C3k2            [32, 64, 1, False, 0.25]      \n",
      "  3                  -1  1     36992  ultralytics.nn.modules.conv.Conv             [64, 64, 3, 2]                \n",
      "  4                  -1  1     26080  ultralytics.nn.modules.block.C3k2            [64, 128, 1, False, 0.25]     \n",
      "  5                  -1  1    147712  ultralytics.nn.modules.conv.Conv             [128, 128, 3, 2]              \n",
      "  6                  -1  1     87040  ultralytics.nn.modules.block.C3k2            [128, 128, 1, True]           \n",
      "  7                  -1  1    295424  ultralytics.nn.modules.conv.Conv             [128, 256, 3, 2]              \n",
      "  8                  -1  1    346112  ultralytics.nn.modules.block.C3k2            [256, 256, 1, True]           \n",
      "  9                  -1  1    249728  ultralytics.nn.modules.block.C2PSA           [256, 256, 1]                 \n",
      " 10                  -1  1    335364  ultralytics.nn.modules.head.Classify         [256, 4]                      \n",
      "YOLO11n-cls summary: 151 layers, 1,536,228 parameters, 1,536,228 gradients, 3.3 GFLOPs\n",
      "Transferred 234/236 items from pretrained weights\n",
      "\u001b[34m\u001b[1mTensorBoard: \u001b[0mStart with 'tensorboard --logdir runs\\classify\\train4', view at http://localhost:6006/\n"
     ]
    },
    {
     "name": "stderr",
     "output_type": "stream",
     "text": [
      "\u001b[34m\u001b[1mtrain: \u001b[0mScanning C:\\Users\\shams\\Desktop\\Sections\\Computer vision\\Task4\\Alzheimer_s Dataset\\train... 4220 images, 0 corru\u001b[0m\n"
     ]
    },
    {
     "name": "stdout",
     "output_type": "stream",
     "text": [
      "\u001b[34m\u001b[1mtrain: \u001b[0mNew cache created: C:\\Users\\shams\\Desktop\\Sections\\Computer vision\\Task4\\Alzheimer_s Dataset\\train.cache\n"
     ]
    },
    {
     "name": "stderr",
     "output_type": "stream",
     "text": [
      "\u001b[34m\u001b[1mval: \u001b[0mScanning C:\\Users\\shams\\Desktop\\Sections\\Computer vision\\Task4\\Alzheimer_s Dataset\\test... 1279 images, 0 corrupt:\u001b[0m\n"
     ]
    },
    {
     "name": "stdout",
     "output_type": "stream",
     "text": [
      "\u001b[34m\u001b[1mval: \u001b[0mNew cache created: C:\\Users\\shams\\Desktop\\Sections\\Computer vision\\Task4\\Alzheimer_s Dataset\\test.cache\n",
      "\u001b[34m\u001b[1moptimizer:\u001b[0m 'optimizer=auto' found, ignoring 'lr0=0.01' and 'momentum=0.937' and determining best 'optimizer', 'lr0' and 'momentum' automatically... \n",
      "\u001b[34m\u001b[1moptimizer:\u001b[0m AdamW(lr=0.000714, momentum=0.9) with parameter groups 39 weight(decay=0.0), 40 weight(decay=0.0005), 40 bias(decay=0.0)\n",
      "\u001b[34m\u001b[1mTensorBoard: \u001b[0mmodel graph visualization added \n",
      "Image sizes 224 train, 224 val\n",
      "Using 0 dataloader workers\n",
      "Logging results to \u001b[1mruns\\classify\\train4\u001b[0m\n",
      "Starting training for 5 epochs...\n",
      "\n",
      "      Epoch    GPU_mem       loss  Instances       Size\n"
     ]
    },
    {
     "name": "stderr",
     "output_type": "stream",
     "text": [
      "        1/5         0G     0.9477         12        224: 100%|██████████| 264/264 [01:26<00:00,  3.05it/s]\n",
      "               classes   top1_acc   top5_acc: 100%|██████████| 40/40 [00:08<00:00,  4.94it/s]"
     ]
    },
    {
     "name": "stdout",
     "output_type": "stream",
     "text": [
      "                   all      0.554          1\n"
     ]
    },
    {
     "name": "stderr",
     "output_type": "stream",
     "text": [
      "\n"
     ]
    },
    {
     "name": "stdout",
     "output_type": "stream",
     "text": [
      "\n",
      "      Epoch    GPU_mem       loss  Instances       Size\n"
     ]
    },
    {
     "name": "stderr",
     "output_type": "stream",
     "text": [
      "        2/5         0G      0.778         12        224: 100%|██████████| 264/264 [01:22<00:00,  3.18it/s]\n",
      "               classes   top1_acc   top5_acc: 100%|██████████| 40/40 [00:07<00:00,  5.07it/s]\n"
     ]
    },
    {
     "name": "stdout",
     "output_type": "stream",
     "text": [
      "                   all      0.586          1\n",
      "\n",
      "      Epoch    GPU_mem       loss  Instances       Size\n"
     ]
    },
    {
     "name": "stderr",
     "output_type": "stream",
     "text": [
      "        3/5         0G     0.7309         12        224: 100%|██████████| 264/264 [01:22<00:00,  3.21it/s]\n",
      "               classes   top1_acc   top5_acc: 100%|██████████| 40/40 [00:07<00:00,  5.08it/s]"
     ]
    },
    {
     "name": "stdout",
     "output_type": "stream",
     "text": [
      "                   all      0.591          1\n"
     ]
    },
    {
     "name": "stderr",
     "output_type": "stream",
     "text": [
      "\n"
     ]
    },
    {
     "name": "stdout",
     "output_type": "stream",
     "text": [
      "\n",
      "      Epoch    GPU_mem       loss  Instances       Size\n"
     ]
    },
    {
     "name": "stderr",
     "output_type": "stream",
     "text": [
      "        4/5         0G     0.6508         12        224: 100%|██████████| 264/264 [01:21<00:00,  3.22it/s]\n",
      "               classes   top1_acc   top5_acc: 100%|██████████| 40/40 [00:07<00:00,  5.05it/s]"
     ]
    },
    {
     "name": "stdout",
     "output_type": "stream",
     "text": [
      "                   all      0.597          1\n"
     ]
    },
    {
     "name": "stderr",
     "output_type": "stream",
     "text": [
      "\n"
     ]
    },
    {
     "name": "stdout",
     "output_type": "stream",
     "text": [
      "\n",
      "      Epoch    GPU_mem       loss  Instances       Size\n"
     ]
    },
    {
     "name": "stderr",
     "output_type": "stream",
     "text": [
      "        5/5         0G     0.6091         12        224: 100%|██████████| 264/264 [01:21<00:00,  3.23it/s]\n",
      "               classes   top1_acc   top5_acc: 100%|██████████| 40/40 [00:08<00:00,  4.99it/s]"
     ]
    },
    {
     "name": "stdout",
     "output_type": "stream",
     "text": [
      "                   all      0.651          1\n"
     ]
    },
    {
     "name": "stderr",
     "output_type": "stream",
     "text": [
      "\n"
     ]
    },
    {
     "name": "stdout",
     "output_type": "stream",
     "text": [
      "\n",
      "5 epochs completed in 0.128 hours.\n",
      "Optimizer stripped from runs\\classify\\train4\\weights\\last.pt, 3.2MB\n",
      "Optimizer stripped from runs\\classify\\train4\\weights\\best.pt, 3.2MB\n",
      "\n",
      "Validating runs\\classify\\train4\\weights\\best.pt...\n",
      "Ultralytics 8.3.39  Python-3.12.7 torch-2.5.1+cpu CPU (AMD Ryzen 7 7435HS)\n",
      "YOLO11n-cls summary (fused): 112 layers, 1,531,148 parameters, 0 gradients, 3.2 GFLOPs\n",
      "WARNING  Dataset 'split=val' not found, using 'split=test' instead.\n",
      "\u001b[34m\u001b[1mtrain:\u001b[0m C:\\Users\\shams\\Desktop\\Sections\\Computer vision\\Task4\\Alzheimer_s Dataset\\train... found 4220 images in 4 classes  \n",
      "\u001b[34m\u001b[1mval:\u001b[0m None...\n",
      "\u001b[34m\u001b[1mtest:\u001b[0m C:\\Users\\shams\\Desktop\\Sections\\Computer vision\\Task4\\Alzheimer_s Dataset\\test... found 1279 images in 4 classes  \n"
     ]
    },
    {
     "name": "stderr",
     "output_type": "stream",
     "text": [
      "               classes   top1_acc   top5_acc: 100%|██████████| 40/40 [00:07<00:00,  5.41it/s]\n"
     ]
    },
    {
     "name": "stdout",
     "output_type": "stream",
     "text": [
      "                   all      0.652          1\n",
      "Speed: 0.0ms preprocess, 3.3ms inference, 0.0ms loss, 0.0ms postprocess per image\n",
      "Results saved to \u001b[1mruns\\classify\\train4\u001b[0m\n"
     ]
    },
    {
     "data": {
      "text/plain": [
       "ultralytics.utils.metrics.ClassifyMetrics object with attributes:\n",
       "\n",
       "confusion_matrix: <ultralytics.utils.metrics.ConfusionMatrix object at 0x0000029030DA2150>\n",
       "curves: []\n",
       "curves_results: []\n",
       "fitness: 0.8260359764099121\n",
       "keys: ['metrics/accuracy_top1', 'metrics/accuracy_top5']\n",
       "results_dict: {'metrics/accuracy_top1': 0.6520719528198242, 'metrics/accuracy_top5': 1.0, 'fitness': 0.8260359764099121}\n",
       "save_dir: WindowsPath('runs/classify/train4')\n",
       "speed: {'preprocess': 0.0, 'inference': 3.3453785879151536, 'loss': 0.0, 'postprocess': 0.0}\n",
       "task: 'classify'\n",
       "top1: 0.6520719528198242\n",
       "top5: 1.0"
      ]
     },
     "execution_count": 13,
     "metadata": {},
     "output_type": "execute_result"
    }
   ],
   "source": [
    " model.train(data=\"C:/Users/shams/Desktop/Sections/Computer vision/Task4/Alzheimer_s Dataset \", epochs=5)"
   ]
  },
  {
   "cell_type": "code",
   "execution_count": 23,
   "id": "911ccce4-5aa4-46c3-ba4a-4f45cd3dff95",
   "metadata": {},
   "outputs": [
    {
     "name": "stdout",
     "output_type": "stream",
     "text": [
      "Ultralytics 8.3.39  Python-3.12.7 torch-2.5.1+cpu CPU (AMD Ryzen 7 7435HS)\n",
      "\u001b[34m\u001b[1mtrain:\u001b[0m C:\\Users\\shams\\Desktop\\Sections\\Computer vision\\Task4\\Alzheimer_s Dataset\\train... found 4220 images in 4 classes  \n",
      "\u001b[34m\u001b[1mval:\u001b[0m C:\\Users\\shams\\Desktop\\Sections\\Computer vision\\Task4\\Alzheimer_s Dataset\\val... found 4220 images in 4 classes  \n",
      "\u001b[34m\u001b[1mtest:\u001b[0m C:\\Users\\shams\\Desktop\\Sections\\Computer vision\\Task4\\Alzheimer_s Dataset\\test... found 1279 images in 4 classes  \n"
     ]
    },
    {
     "name": "stderr",
     "output_type": "stream",
     "text": [
      "\u001b[34m\u001b[1mval: \u001b[0mScanning C:\\Users\\shams\\Desktop\\Sections\\Computer vision\\Task4\\Alzheimer_s Dataset\\val... 4220 images, 0 corrupt: \u001b[0m\n"
     ]
    },
    {
     "name": "stdout",
     "output_type": "stream",
     "text": [
      "\u001b[34m\u001b[1mval: \u001b[0mNew cache created: C:\\Users\\shams\\Desktop\\Sections\\Computer vision\\Task4\\Alzheimer_s Dataset\\val.cache\n"
     ]
    },
    {
     "name": "stderr",
     "output_type": "stream",
     "text": [
      "               classes   top1_acc   top5_acc: 100%|██████████| 264/264 [00:25<00:00, 10.17it/s]\n"
     ]
    },
    {
     "name": "stdout",
     "output_type": "stream",
     "text": [
      "                   all      0.845          1\n",
      "Speed: 0.0ms preprocess, 3.7ms inference, 0.0ms loss, 0.0ms postprocess per image\n",
      "Results saved to \u001b[1mruns\\classify\\train45\u001b[0m\n"
     ]
    },
    {
     "data": {
      "text/plain": [
       "1.0"
      ]
     },
     "execution_count": 23,
     "metadata": {},
     "output_type": "execute_result"
    }
   ],
   "source": [
    " metrics = model.val()\n",
    " metrics.top1                       \n",
    "metrics.top5      "
   ]
  },
  {
   "cell_type": "code",
   "execution_count": 29,
   "id": "bbdbd824-fb25-40a8-9015-982eb24e2a24",
   "metadata": {},
   "outputs": [
    {
     "name": "stdout",
     "output_type": "stream",
     "text": [
      "\n",
      "image 1/1 C:\\Users\\shams\\Desktop\\Sections\\Computer vision\\Task4\\Alzheimer_s Dataset\\train\\NonDemented\\photo.jpg: 224x224 NonDemented 0.68, VeryMildDemented 0.31, MildDemented 0.01, ModerateDemented 0.00, 12.5ms\n",
      "Speed: 4.0ms preprocess, 12.5ms inference, 0.0ms postprocess per image at shape (1, 3, 224, 224)\n",
      "tensor([0.0148, 0.0011, 0.6778, 0.3063])\n"
     ]
    }
   ],
   "source": [
    " results = model.predict(\"C:/Users/shams/Desktop/Sections/Computer vision/Task4/Alzheimer_s Dataset/train/NonDemented/photo.jpg\")\n",
    "\n",
    "if isinstance(results, list) and len(results) > 0:\n",
    "    probs = results[0].probs  \n",
    "    print(probs.data)\n",
    "else:\n",
    "    print(\"Prediction results are not in the expected format.\")"
   ]
  },
  {
   "cell_type": "code",
   "execution_count": null,
   "id": "72dfde7e-ee19-45ff-9a6e-060454eb4ab5",
   "metadata": {},
   "outputs": [],
   "source": []
  }
 ],
 "metadata": {
  "kernelspec": {
   "display_name": "Python 3 (ipykernel)",
   "language": "python",
   "name": "python3"
  },
  "language_info": {
   "codemirror_mode": {
    "name": "ipython",
    "version": 3
   },
   "file_extension": ".py",
   "mimetype": "text/x-python",
   "name": "python",
   "nbconvert_exporter": "python",
   "pygments_lexer": "ipython3",
   "version": "3.12.7"
  }
 },
 "nbformat": 4,
 "nbformat_minor": 5
}
